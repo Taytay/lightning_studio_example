{
 "cells": [
  {
   "attachments": {},
   "cell_type": "markdown",
   "metadata": {},
   "source": [
    "# LLM Finetune - Mistral 7B\n",
    "\n",
    "This studio will let you fine-tune a Mistral 7B model, and request an inference through the API. \n",
    "\n",
    "To start, make sure you **switch to a A10G machine**."
   ]
  },
  {
   "cell_type": "code",
   "execution_count": 1,
   "metadata": {},
   "outputs": [],
   "source": [
    "import torch\n",
    "assert torch.cuda.is_available(), \"Please switch to a GPU instance (1xA10G recommended)\"\n",
    "\n"
   ]
  },
  {
   "attachments": {},
   "cell_type": "markdown",
   "metadata": {},
   "source": [
    "### Prepare the dataset\n",
    "\n",
    "First off, download and prepare the dataset. The following defaults to the Alpaca dataset (`--dataset alpaca`), but you can fine-tune on the Dolly dataset (`--dataset dolly`), or bring your own CSV (`--dataset csv`).\n",
    "\n",
    "In the latter case, you need to provide a CSV file with the following 3 columns\n",
    "```\n",
    "instruction input output\n",
    "```\n",
    "and pass it as the `--csv_path <data.csv>` argument to the script."
   ]
  },
  {
   "cell_type": "code",
   "execution_count": 18,
   "metadata": {},
   "outputs": [],
   "source": [
    "\n",
    "dataset_name = \"alpaca_small\"\n",
    "lora_path = f\"out/lora/{dataset_name}/lit_model_lora_finetuned.pth\""
   ]
  },
  {
   "cell_type": "code",
   "execution_count": null,
   "metadata": {},
   "outputs": [],
   "source": [
    "\n",
    "!python llm-finetune/prepare_dataset.py --dataset f\"{dataset_name}\""
   ]
  },
  {
   "cell_type": "markdown",
   "metadata": {},
   "source": [
    "### Enable Flash Attention 2 (Optional)\n",
    "\n",
    "Install Pytorch Nightly 2.2 to enable FA2"
   ]
  },
  {
   "cell_type": "code",
   "execution_count": null,
   "metadata": {},
   "outputs": [],
   "source": [
    "# use flash attention 2\n",
    "# https://github.com/Lightning-AI/lit-gpt/issues/637\n",
    "# !pip uninstall -y torch\n",
    "# !pip install --pre torch --index-url https://download.pytorch.org/whl/nightly/cu121"
   ]
  },
  {
   "attachments": {},
   "cell_type": "markdown",
   "metadata": {},
   "source": [
    "### Fine-tune the base Mistral 7B model on the dataset\n",
    "\n",
    "You can now fine-tune your model on the data. This script will automatically run across all available GPUs."
   ]
  },
  {
   "cell_type": "code",
   "execution_count": null,
   "metadata": {},
   "outputs": [],
   "source": [
    "# finetune.py hardcodes the number of iterations to 50k. You can make this match your dataset.\n",
    "!python llm-finetune/finetune.py --dataset f\"{dataset_name}\""
   ]
  },
  {
   "attachments": {},
   "cell_type": "markdown",
   "metadata": {},
   "source": [
    "### Try generating text\n",
    "\n",
    "You can now generate text using your fine-tuned model. Feel free to adjust the prompt as needed."
   ]
  },
  {
   "cell_type": "code",
   "execution_count": 14,
   "metadata": {},
   "outputs": [],
   "source": [
    "# The code above saved this out to : 'out/lora/{dataset_name}/lit_model_lora_finetuned.pth'\n",
    "\n",
    "# But the code below (generate_lora.py) doesn't seem to know about that output folder and assumes it's dolly. Here's what that code looks like right now:\n",
    "\n",
    "# def generate(\n",
    "#     model_name: str = \"mistralai/Mistral-7B-v0.1\",\n",
    "#     prompt: str = \"\"\n",
    "# ):\n",
    "#     lora.main(\n",
    "#         prompt = prompt,\n",
    "#         checkpoint_dir = Path(\"llm-finetune/lit-gpt/checkpoints\") / model_name,\n",
    "#         lora_path = Path(\"out/lora/dolly/lit_model_lora_finetuned.pth\"),\n",
    "#         precision = \"bf16-true\",\n",
    "#         quantize = \"bnb.nf4\",\n",
    "#     )\n",
    "\n",
    "# Original way of calling it:\n",
    "#!python llm-finetune/generate_lora.py  --prompt \"Is pineapple pizza any good?\"\n",
    "\n",
    "# Fixed way to call it:\n",
    "!python llm-finetune/generate_lora.py --lora_path \"{lora_path}\"  --prompt \"Is pineapple pizza any good?\""
   ]
  },
  {
   "attachments": {},
   "cell_type": "markdown",
   "metadata": {},
   "source": [
    "### Produce a checkpoint\n",
    "\n",
    "You can merge your fine-tuned layers on the base model, obtaining a self-contained checkpoint."
   ]
  },
  {
   "cell_type": "code",
   "execution_count": null,
   "metadata": {},
   "outputs": [],
   "source": [
    "!python llm-finetune/merge_lora.py --lora_path \"{lora_path}\"\n"
   ]
  },
  {
   "cell_type": "code",
   "execution_count": null,
   "metadata": {},
   "outputs": [],
   "source": [
    "# TODO: generate using this merged file\n"
   ]
  }
 ],
 "metadata": {
  "kernelspec": {
   "display_name": "Python 3",
   "language": "python",
   "name": "python3"
  },
  "language_info": {
   "codemirror_mode": {
    "name": "ipython",
    "version": 3
   },
   "file_extension": ".py",
   "mimetype": "text/x-python",
   "name": "python",
   "nbconvert_exporter": "python",
   "pygments_lexer": "ipython3",
   "version": "3.10.11"
  },
  "orig_nbformat": 4
 },
 "nbformat": 4,
 "nbformat_minor": 2
}
