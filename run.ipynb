{
 "cells": [
  {
   "attachments": {},
   "cell_type": "markdown",
   "metadata": {},
   "source": [
    "# LLM Finetune - Mistral 7B\n",
    "\n",
    "This studio will let you fine-tune a Mistral 7B model, and request an inference through the API. \n",
    "\n",
    "To start, make sure you **switch to a A10G machine**."
   ]
  },
  {
   "cell_type": "code",
   "execution_count": 1,
   "metadata": {},
   "outputs": [
    {
     "ename": "AssertionError",
     "evalue": "Please switch to a GPU instance (1xA10G recommended)",
     "output_type": "error",
     "traceback": [
      "\u001b[0;31m---------------------------------------------------------------------------\u001b[0m",
      "\u001b[0;31mAssertionError\u001b[0m                            Traceback (most recent call last)",
      "Cell \u001b[0;32mIn[1], line 2\u001b[0m\n\u001b[1;32m      1\u001b[0m \u001b[39mimport\u001b[39;00m \u001b[39mtorch\u001b[39;00m\n\u001b[0;32m----> 2\u001b[0m \u001b[39massert\u001b[39;00m torch\u001b[39m.\u001b[39mcuda\u001b[39m.\u001b[39mis_available(), \u001b[39m\"\u001b[39m\u001b[39mPlease switch to a GPU instance (1xA10G recommended)\u001b[39m\u001b[39m\"\u001b[39m\n",
      "\u001b[0;31mAssertionError\u001b[0m: Please switch to a GPU instance (1xA10G recommended)"
     ]
    }
   ],
   "source": [
    "import torch\n",
    "assert torch.cuda.is_available(), \"Please switch to a GPU instance (1xA10G recommended)\""
   ]
  },
  {
   "attachments": {},
   "cell_type": "markdown",
   "metadata": {},
   "source": [
    "### Prepare the dataset\n",
    "\n",
    "First off, download and prepare the dataset. The following defaults to the Alpaca dataset (`--dataset alpaca`), but you can fine-tune on the Dolly dataset (`--dataset dolly`), or bring your own CSV (`--dataset csv`).\n",
    "\n",
    "In the latter case, you need to provide a CSV file with the following 3 columns\n",
    "```\n",
    "instruction input output\n",
    "```\n",
    "and pass it as the `--csv_path <data.csv>` argument to the script."
   ]
  },
  {
   "cell_type": "code",
   "execution_count": null,
   "metadata": {},
   "outputs": [],
   "source": [
    "!python llm-finetune/prepare_dataset.py --dataset alpaca"
   ]
  },
  {
   "attachments": {},
   "cell_type": "markdown",
   "metadata": {},
   "source": [
    "### Fine-tune the base Mistral 7B model on the dataset\n",
    "\n",
    "You can now fine-tune your model on the data. This script will automatically run across all available GPUs."
   ]
  },
  {
   "cell_type": "code",
   "execution_count": null,
   "metadata": {},
   "outputs": [],
   "source": [
    "!python llm-finetune/finetune.py --dataset alpaca"
   ]
  },
  {
   "attachments": {},
   "cell_type": "markdown",
   "metadata": {},
   "source": [
    "### Try generating text\n",
    "\n",
    "You can now generate text using your fine-tuned model. Feel free to adjust the prompt as needed."
   ]
  },
  {
   "cell_type": "code",
   "execution_count": null,
   "metadata": {},
   "outputs": [],
   "source": [
    "!python llm-finetune/generate_lora.py  --prompt \"Is pineapple pizza any good?\""
   ]
  },
  {
   "attachments": {},
   "cell_type": "markdown",
   "metadata": {},
   "source": [
    "### Produce a checkpoint\n",
    "\n",
    "You can merge your fine-tuned layers on the base model, obtaining a self-contained checkpoint."
   ]
  },
  {
   "cell_type": "code",
   "execution_count": null,
   "metadata": {},
   "outputs": [],
   "source": [
    "!python llm-finetune/merge_lora.py"
   ]
  }
 ],
 "metadata": {
  "kernelspec": {
   "display_name": "Python 3",
   "language": "python",
   "name": "python3"
  },
  "language_info": {
   "codemirror_mode": {
    "name": "ipython",
    "version": 3
   },
   "file_extension": ".py",
   "mimetype": "text/x-python",
   "name": "python",
   "nbconvert_exporter": "python",
   "pygments_lexer": "ipython3",
   "version": "3.10.11"
  },
  "orig_nbformat": 4
 },
 "nbformat": 4,
 "nbformat_minor": 2
}
